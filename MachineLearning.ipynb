{
 "cells": [
  {
   "cell_type": "markdown",
   "id": "7c54fc63",
   "metadata": {},
   "source": [
    "# Environment\n",
    "Kernel: conda env:bdm"
   ]
  },
  {
   "cell_type": "code",
   "execution_count": 1,
   "id": "36e54cdc",
   "metadata": {
    "scrolled": true
   },
   "outputs": [
    {
     "name": "stdout",
     "output_type": "stream",
     "text": [
      "Package           Version\n",
      "----------------- -----------\n",
      "appnope           0.1.2\n",
      "asttokens         2.0.5\n",
      "backcall          0.2.0\n",
      "certifi           2022.5.18.1\n",
      "debugpy           1.5.1\n",
      "decorator         5.1.1\n",
      "entrypoints       0.4\n",
      "executing         0.8.3\n",
      "future            0.18.2\n",
      "hdfs3             0.3.1\n",
      "ipykernel         6.9.1\n",
      "ipython           8.3.0\n",
      "jedi              0.18.1\n",
      "jupyter-client    7.2.2\n",
      "jupyter-core      4.10.0\n",
      "kafka-python      2.0.2\n",
      "matplotlib-inline 0.1.2\n",
      "nest-asyncio      1.5.5\n",
      "numpy             1.22.2\n",
      "pandas            1.4.1\n",
      "parso             0.8.3\n",
      "pexpect           4.8.0\n",
      "pickleshare       0.7.5\n",
      "pip               21.2.4\n",
      "prompt-toolkit    3.0.20\n",
      "ptyprocess        0.7.0\n",
      "pure-eval         0.2.2\n",
      "py4j              0.10.9.3\n",
      "pyarrow           5.0.0\n",
      "Pygments          2.11.2\n",
      "pymonetdb         1.6.1\n",
      "pymongo           3.12.2\n",
      "pyspark           3.2.1\n",
      "python-dateutil   2.8.2\n",
      "pytz              2022.1\n",
      "pyzmq             22.3.0\n",
      "setuptools        61.2.0\n",
      "six               1.16.0\n",
      "stack-data        0.2.0\n",
      "tornado           6.1\n",
      "traitlets         5.1.1\n",
      "utils             1.0.1\n",
      "wcwidth           0.2.5\n",
      "wheel             0.37.1\n",
      "Note: you may need to restart the kernel to use updated packages.\n"
     ]
    }
   ],
   "source": [
    "pip list"
   ]
  },
  {
   "cell_type": "markdown",
   "id": "26fa7a21",
   "metadata": {},
   "source": [
    "# Machine Learning with Spark\n",
    "\n",
    "- https://towardsdatascience.com/building-a-linear-regression-with-pyspark-and-mllib-d065c3ba246a"
   ]
  },
  {
   "cell_type": "code",
   "execution_count": 2,
   "id": "cb478109",
   "metadata": {},
   "outputs": [],
   "source": [
    "#from pyspark import SparkConf, SparkContext\n",
    "from pyspark.sql import SparkSession\n",
    "#from pyspark.sql import SQLContext\n",
    "from pyspark.ml.feature import VectorAssembler\n",
    "from pyspark.ml.linalg import Vectors\n",
    "from pyspark.ml.feature import StringIndexer\n",
    "from pyspark.ml.feature import OneHotEncoder\n",
    "from pyspark.ml.regression import LinearRegression\n",
    "from pyspark.ml.evaluation import RegressionEvaluator\n",
    "from pyspark.ml.regression import LinearRegressionSummary\n",
    "from pyspark.ml.regression import LinearRegressionTrainingSummary\n",
    "from pyspark.ml import Pipeline\n",
    "import os\n",
    "\n",
    "#Cannot be imported -- do I need to install something?\n",
    "#from utils.properties_parser import parse_properties"
   ]
  },
  {
   "cell_type": "code",
   "execution_count": 3,
   "id": "0ceb8b97",
   "metadata": {
    "scrolled": true
   },
   "outputs": [
    {
     "name": "stderr",
     "output_type": "stream",
     "text": [
      "22/06/17 20:17:53 WARN Utils: Your hostname, Kathryns-MacBook-Air.local resolves to a loopback address: 127.0.0.1; using 192.168.1.37 instead (on interface en0)\n",
      "22/06/17 20:17:53 WARN Utils: Set SPARK_LOCAL_IP if you need to bind to another address\n",
      "Using Spark's default log4j profile: org/apache/spark/log4j-defaults.properties\n",
      "Setting default log level to \"WARN\".\n",
      "To adjust logging level use sc.setLogLevel(newLevel). For SparkR, use setLogLevel(newLevel).\n",
      "22/06/17 20:17:54 WARN NativeCodeLoader: Unable to load native-hadoop library for your platform... using builtin-java classes where applicable\n"
     ]
    }
   ],
   "source": [
    "spark = SparkSession.builder.master(\"local[*]\").appName(\"ml-test\").config('spark.driver.extraClassPath',\n",
    "                './drivers/monetdb-jdbc-3.2.jre8.jar').getOrCreate()"
   ]
  },
  {
   "cell_type": "code",
   "execution_count": 4,
   "id": "4629d34d",
   "metadata": {
    "scrolled": true
   },
   "outputs": [],
   "source": [
    "# Reading the idealista table from the formatted zone into a Spark dataframe\n",
    "df = spark.read.format(\"jdbc\") \\\n",
    "    .option(\"url\", \"jdbc:monetdb://dodrio.fib.upc.es:50000/mydb\") \\\n",
    "    .option(\"dbtable\", 'idealista') \\\n",
    "    .option(\"user\", 'monetdb') \\\n",
    "    .option(\"password\", 'monetdb') \\\n",
    "    .option(\"batchsize\", 10000) \\\n",
    "    .load()"
   ]
  },
  {
   "cell_type": "code",
   "execution_count": 5,
   "id": "8aa72b22",
   "metadata": {},
   "outputs": [
    {
     "name": "stdout",
     "output_type": "stream",
     "text": [
      "[('district', 'string'), ('neighborhood', 'string'), ('propertyCode', 'string'), ('thumbnail', 'string'), ('externalReference', 'string'), ('numPhotos', 'bigint'), ('floor', 'string'), ('price', 'double'), ('propertyType', 'string'), ('operation', 'string'), ('size', 'double'), ('exterior', 'boolean'), ('rooms', 'bigint'), ('bathrooms', 'bigint'), ('address', 'string'), ('province', 'string'), ('municipality', 'string'), ('country', 'string'), ('latitude', 'double'), ('longitude', 'double'), ('showAddress', 'boolean'), ('url', 'string'), ('distance', 'string'), ('hasVideo', 'boolean'), ('status', 'string'), ('newDevelopment', 'boolean'), ('hasLift', 'boolean'), ('priceByArea', 'double'), ('detailedType', 'string'), ('suggestedTexts', 'string'), ('hasPlan', 'boolean'), ('has3DTour', 'boolean'), ('has360', 'boolean'), ('hasStaging', 'boolean'), ('topNewDevelopment', 'boolean'), ('_process_time', 'timestamp'), ('_input_file_name', 'string'), ('district_n_reconciled', 'string'), ('district_n', 'string'), ('district_id', 'string'), ('neighborhood_n_reconciled', 'string'), ('neighborhood_n', 'string'), ('neighborhood_id', 'string')]\n"
     ]
    }
   ],
   "source": [
    "# verify columns and datatypes of dataframe\n",
    "print(df.dtypes)"
   ]
  },
  {
   "cell_type": "markdown",
   "id": "13deddb3",
   "metadata": {},
   "source": [
    "## Pre-processing data for ML model training\n",
    "\n",
    "Reference for OHE Steps: https://towardsdev.com/how-to-write-pyspark-one-hot-encoding-results-to-an-interpretable-csv-file-626ecb973962\n",
    "\n",
    "### StringIndexer:\n",
    "\n",
    "- Spark's StringIndexer is a required pre-processing step to convert the categorical data of neighorhood_id from a string to a number in order for the Spark OneHotEncoder function to work.\n",
    "\n",
    "- Using the option to ignore all the missing values of neighborhood_id in the idealista dataframe with the StringIndexer parameter `handleInvalid='skip'` provides better regression results than keeping the missing values as their own category.\n",
    "\n",
    "- The alternative option, `handleInvalid='keep'` in the StringIndexer will categorize the missing values in their own category together, which wouldn't make much sense. Properties in Sant Cugat would be grouped with properties in L'Hospitalet because they are both missing Barcelona neighborhood ids.\n",
    "\n",
    "Reference for StringIndexer: https://spark.apache.org/docs/latest/api/python/reference/api/pyspark.ml.feature.StringIndexer.html#pyspark.ml.feature.StringIndexer.handleInvalid"
   ]
  },
  {
   "cell_type": "code",
   "execution_count": 6,
   "id": "2e58a336",
   "metadata": {},
   "outputs": [
    {
     "name": "stderr",
     "output_type": "stream",
     "text": [
      "                                                                                \r"
     ]
    }
   ],
   "source": [
    "# numeric indexing for the strings (indexing starts from 0)\n",
    "\n",
    "# rows with missing neighborhood_ids will be filtered out with handleInvalid='skip'\n",
    "indexer = StringIndexer(inputCol=\"neighborhood_id\", outputCol=\"neighborhood_id_index\", handleInvalid='skip')\n",
    "\n",
    "# fit the indexer model and use it to transform the strings into numeric indices\n",
    "indexer_model = indexer.fit(df)\n",
    "df = indexer_model.transform(df)"
   ]
  },
  {
   "cell_type": "markdown",
   "id": "85ea7c66",
   "metadata": {},
   "source": [
    "### OneHotEncoder:\n",
    "- One Hot Encoding is required in order to perform a linear regression to estimate the price based on the neighborhood."
   ]
  },
  {
   "cell_type": "code",
   "execution_count": 7,
   "id": "7fa5070b",
   "metadata": {},
   "outputs": [],
   "source": [
    "# one-hot-encoding the numeric indices\n",
    "ohe = OneHotEncoder(inputCol=\"neighborhood_id_index\", outputCol=\"neighborhoodOHEVector\")\n",
    "\n",
    "# fit the ohe model and use it to transform the numeric indices into ohe vectors\n",
    "ohe_model = ohe.fit(df)\n",
    "df = ohe_model.transform(df)"
   ]
  },
  {
   "cell_type": "code",
   "execution_count": 8,
   "id": "ebf224b4",
   "metadata": {},
   "outputs": [
    {
     "name": "stdout",
     "output_type": "stream",
     "text": [
      "+---------------------+---------+\n",
      "|neighborhoodOHEVector|    price|\n",
      "+---------------------+---------+\n",
      "|       (53,[0],[1.0])| 680000.0|\n",
      "|       (53,[0],[1.0])|1100000.0|\n",
      "|      (53,[17],[1.0])| 358000.0|\n",
      "+---------------------+---------+\n",
      "only showing top 3 rows\n",
      "\n"
     ]
    }
   ],
   "source": [
    "# create dataframe for machine learning\n",
    "ml_df = df.select(['neighborhoodOHEVector', 'price'])\n",
    "# preview 3 rows of data\n",
    "ml_df.show(3)"
   ]
  },
  {
   "cell_type": "markdown",
   "id": "3a0ac337",
   "metadata": {},
   "source": [
    "### Create train and test sets for model validation"
   ]
  },
  {
   "cell_type": "code",
   "execution_count": 9,
   "id": "4a6fef98",
   "metadata": {},
   "outputs": [],
   "source": [
    "# split data into training and test sets\n",
    "splits = ml_df.randomSplit([0.7, 0.3], seed=24)\n",
    "train_df = splits[0]\n",
    "test_df = splits[1]"
   ]
  },
  {
   "cell_type": "markdown",
   "id": "17edff76",
   "metadata": {},
   "source": [
    "### Create linear regression model to predict price based on neighborhood"
   ]
  },
  {
   "cell_type": "code",
   "execution_count": 10,
   "id": "558520fd",
   "metadata": {},
   "outputs": [
    {
     "name": "stderr",
     "output_type": "stream",
     "text": [
      "22/06/17 20:18:09 WARN InstanceBuilder$NativeBLAS: Failed to load implementation from:dev.ludovic.netlib.blas.JNIBLAS\n",
      "22/06/17 20:18:09 WARN InstanceBuilder$NativeBLAS: Failed to load implementation from:dev.ludovic.netlib.blas.ForeignLinkerBLAS\n",
      "22/06/17 20:18:09 WARN InstanceBuilder$NativeLAPACK: Failed to load implementation from:dev.ludovic.netlib.lapack.JNILAPACK\n",
      "                                                                                \r"
     ]
    }
   ],
   "source": [
    "# create linear regression model\n",
    "lr = LinearRegression(featuresCol='neighborhoodOHEVector', labelCol='price', maxIter=10, regParam=0.1)\n",
    "# fit the linear regression model to the training data\n",
    "lr_model = lr.fit(train_df)"
   ]
  },
  {
   "cell_type": "markdown",
   "id": "2ef3d564",
   "metadata": {},
   "source": [
    "The coefficients can be interpreted as the variation of property prices in euros per neighborhood, because only one variable will have the value of 1 per sample to represent the neighborhood in which the property is located. Large positive coefficients are for expensive neighborhoods and negative coefficeints are for neighborhoods with lower property values."
   ]
  },
  {
   "cell_type": "code",
   "execution_count": 11,
   "id": "bf5a9544",
   "metadata": {},
   "outputs": [
    {
     "name": "stdout",
     "output_type": "stream",
     "text": [
      "Coefficients: [774355.505058845,736292.7401970942,12305.69217641256,189553.5119624583,264488.518061847,1303205.4297686112,88088.47521745606,-26397.696647085464,-73324.51404720619,365706.75560065225,-69208.96266737235,194292.83664842194,-45040.69668952972,67759.74584644934,1441425.646377325,317489.888583991,1607807.9097785098,37039.28914200649,423310.74459833687,856127.9043658309,357665.65618308546,962161.0998884225,-41650.30943947419,232482.8138624805,425841.19469307456,121628.70877362823,12802.635633079322,133759.14194420117,107654.97860453339,-9675.622368122962,-94397.97180069648,27409.155503466132,-76070.24304020684,634.1589247406345,-134518.6015587498,-15640.838991094037,-27240.83750488134,65759.15058463665,49759.15263237194,-80240.83071827103,-153765.8212985952,-188340.81687473896,-81907.49716734886,-141740.82283884878,-206907.48115322838,119759.14365713298,-154740.82116978796,99759.14622040612,-122240.8253303612,39659.15392304154,0.0,-161240.82032888086,-11240.83955342856]\n",
      "Intercept: 320240.8409940958\n"
     ]
    }
   ],
   "source": [
    "# Check coefficients of variables and the model intercept\n",
    "print(\"Coefficients: \" + str(lr_model.coefficients))\n",
    "print(\"Intercept: \" + str(lr_model.intercept))"
   ]
  },
  {
   "cell_type": "markdown",
   "id": "b7fe18b0",
   "metadata": {},
   "source": [
    "An r2 score of 0.364 means 36.4% of the variance in the price is explained by our model, which is only based on neighborhoods.\n",
    "\n",
    "(Using the rows with missing neighborhood id values as their own category in the regression model had a worse r2 score of 0.29)\n",
    "\n",
    "The mean absolute error represents the average price difference between the model's prediction and the true price in euros."
   ]
  },
  {
   "cell_type": "code",
   "execution_count": 12,
   "id": "fa79f082",
   "metadata": {},
   "outputs": [
    {
     "name": "stdout",
     "output_type": "stream",
     "text": [
      "RMSE: 622125.230828\n",
      "r2: 0.364000\n",
      "Mean Absolute Error: 321297.448040\n"
     ]
    }
   ],
   "source": [
    "# save training summary from the regression model to get training metrics\n",
    "trainingSummary = lr_model.summary\n",
    "print(\"RMSE: %f\" % trainingSummary.rootMeanSquaredError)\n",
    "print(\"r2: %f\" % trainingSummary.r2)\n",
    "print(\"Mean Absolute Error: %f\" % trainingSummary.meanAbsoluteError)"
   ]
  },
  {
   "cell_type": "code",
   "execution_count": 13,
   "id": "805b24eb",
   "metadata": {},
   "outputs": [
    {
     "name": "stderr",
     "output_type": "stream",
     "text": [
      "\r",
      "[Stage 6:>                                                          (0 + 1) / 1]\r"
     ]
    },
    {
     "name": "stdout",
     "output_type": "stream",
     "text": [
      "+-------+-----------------+\n",
      "|summary|            price|\n",
      "+-------+-----------------+\n",
      "|  count|             5058|\n",
      "|   mean|710042.0943060499|\n",
      "| stddev|780175.1904303073|\n",
      "|    min|          39000.0|\n",
      "|    max|            1.2E7|\n",
      "+-------+-----------------+\n",
      "\n"
     ]
    },
    {
     "name": "stderr",
     "output_type": "stream",
     "text": [
      "\r",
      "                                                                                \r"
     ]
    }
   ],
   "source": [
    "# check summary statistics of the training dataset\n",
    "train_df.describe().show()"
   ]
  },
  {
   "cell_type": "markdown",
   "id": "3e7bfc43",
   "metadata": {},
   "source": [
    "### Make predictions and evaluate model performance"
   ]
  },
  {
   "cell_type": "code",
   "execution_count": 14,
   "id": "42e2508e",
   "metadata": {},
   "outputs": [
    {
     "name": "stderr",
     "output_type": "stream",
     "text": [
      "\r",
      "[Stage 9:>                                                          (0 + 1) / 1]\r"
     ]
    },
    {
     "name": "stdout",
     "output_type": "stream",
     "text": [
      "+-----------------+--------+---------------------+\n",
      "|       prediction|   price|neighborhoodOHEVector|\n",
      "+-----------------+--------+---------------------+\n",
      "|1094596.346052941|230000.0|       (53,[0],[1.0])|\n",
      "|1094596.346052941|250000.0|       (53,[0],[1.0])|\n",
      "|1094596.346052941|280000.0|       (53,[0],[1.0])|\n",
      "|1094596.346052941|320000.0|       (53,[0],[1.0])|\n",
      "|1094596.346052941|320000.0|       (53,[0],[1.0])|\n",
      "+-----------------+--------+---------------------+\n",
      "only showing top 5 rows\n",
      "\n"
     ]
    },
    {
     "name": "stderr",
     "output_type": "stream",
     "text": [
      "\r",
      "                                                                                \r"
     ]
    }
   ],
   "source": [
    "##### save predictions from model using test data\n",
    "lr_predictions = lr_model.transform(test_df)\n",
    "# preview 5 rows of predictions\n",
    "lr_predictions.select(\"prediction\",\"price\",'neighborhoodOHEVector').show(5)"
   ]
  },
  {
   "cell_type": "markdown",
   "id": "382f2bc3",
   "metadata": {},
   "source": [
    "The evaluation criteria on the test set are similar to the results achieved on the training data, which means the model is not overfitting and the training set is a good sample of the overall population."
   ]
  },
  {
   "cell_type": "code",
   "execution_count": 15,
   "id": "92bbb30e",
   "metadata": {},
   "outputs": [
    {
     "name": "stderr",
     "output_type": "stream",
     "text": [
      "\r",
      "[Stage 10:>                                                         (0 + 1) / 1]\r"
     ]
    },
    {
     "name": "stdout",
     "output_type": "stream",
     "text": [
      "RMSE: 607212.762940\n",
      "r2: 0.358802\n",
      "Mean Absolute Error: 316830.047112\n"
     ]
    },
    {
     "name": "stderr",
     "output_type": "stream",
     "text": [
      "\r",
      "                                                                                \r"
     ]
    }
   ],
   "source": [
    "# saving the evaluation results to a spark linear regression summary\n",
    "testSummary = lr_model.evaluate(test_df)\n",
    "print(\"RMSE: %f\" % testSummary.rootMeanSquaredError)\n",
    "print(\"r2: %f\" % testSummary.r2)\n",
    "print(\"Mean Absolute Error: %f\" % testSummary.meanAbsoluteError)"
   ]
  },
  {
   "cell_type": "code",
   "execution_count": 16,
   "id": "ee73ba23",
   "metadata": {
    "scrolled": true
   },
   "outputs": [
    {
     "name": "stderr",
     "output_type": "stream",
     "text": [
      "\r",
      "[Stage 11:>                                                         (0 + 1) / 1]\r"
     ]
    },
    {
     "name": "stdout",
     "output_type": "stream",
     "text": [
      "+-------+-----------------+\n",
      "|summary|            price|\n",
      "+-------+-----------------+\n",
      "|  count|             2164|\n",
      "|   mean|707250.5670055453|\n",
      "| stddev|758481.9907412607|\n",
      "|    min|          34000.0|\n",
      "|    max|            1.2E7|\n",
      "+-------+-----------------+\n",
      "\n"
     ]
    },
    {
     "name": "stderr",
     "output_type": "stream",
     "text": [
      "\r",
      "                                                                                \r"
     ]
    }
   ],
   "source": [
    "# summary statistics of the testing dataset\n",
    "test_df.describe().show()"
   ]
  },
  {
   "cell_type": "markdown",
   "id": "b781aad8",
   "metadata": {},
   "source": [
    "# Creating ML Pipeline\n",
    "\n",
    "First I created the previous model step by step, and now I use a pipeline to create a model and doublecheck that the models and evaluation criteria are similar for correctness. The pipeline is the preferred way to implement the model since it includes the pre-processing steps that will be necessary on the streaming data."
   ]
  },
  {
   "cell_type": "code",
   "execution_count": 17,
   "id": "46e8b28f",
   "metadata": {},
   "outputs": [
    {
     "name": "stdout",
     "output_type": "stream",
     "text": [
      "+---------------+---------+\n",
      "|neighborhood_id|    price|\n",
      "+---------------+---------+\n",
      "|       Q1904302| 680000.0|\n",
      "|       Q1904302|1100000.0|\n",
      "|       Q1758503| 358000.0|\n",
      "+---------------+---------+\n",
      "only showing top 3 rows\n",
      "\n"
     ]
    }
   ],
   "source": [
    "# create dataframe for machine learning\n",
    "ml2_df = df.select(['neighborhood_id', 'price'])\n",
    "# preview 3 rows of machine learning dataframe\n",
    "ml2_df.show(3)"
   ]
  },
  {
   "cell_type": "code",
   "execution_count": 18,
   "id": "7e1112a2",
   "metadata": {},
   "outputs": [],
   "source": [
    "# split data into training and test sets\n",
    "splits2 = ml2_df.randomSplit([0.7, 0.3], seed=24)\n",
    "training = splits2[0]\n",
    "testing = splits2[1]"
   ]
  },
  {
   "cell_type": "code",
   "execution_count": 19,
   "id": "06306690",
   "metadata": {},
   "outputs": [
    {
     "name": "stderr",
     "output_type": "stream",
     "text": [
      "                                                                                \r"
     ]
    }
   ],
   "source": [
    "# Configure an ML pipeline, which consists of three stages: StringIndexer, OneHotEncoder, and LinearRegression.\n",
    "indexer = StringIndexer(inputCol=\"neighborhood_id\", outputCol=\"neighborhood_id_index\", handleInvalid='skip')\n",
    "ohe = OneHotEncoder(inputCol=indexer.getOutputCol(), outputCol=\"neighborhoodOHEVector\")\n",
    "lr = LinearRegression(featuresCol='neighborhoodOHEVector', labelCol='price', maxIter=10, regParam=0.1)\n",
    "pipeline = Pipeline(stages=[indexer, ohe, lr])\n",
    "\n",
    "# Fit the pipeline to training dataset.\n",
    "model = pipeline.fit(training)"
   ]
  },
  {
   "cell_type": "markdown",
   "id": "d42e265d",
   "metadata": {},
   "source": [
    "The linear model attributes can be accessed by indexing its stage in the pipeline, which is the last step."
   ]
  },
  {
   "cell_type": "code",
   "execution_count": 20,
   "id": "fd95225b",
   "metadata": {},
   "outputs": [
    {
     "name": "stdout",
     "output_type": "stream",
     "text": [
      "Coefficients: [801551.7984362687,721980.3515125262,182189.82923183558,14993.09625627282,1368051.1830096587,251694.60557201778,87724.60944513443,-67727.06718056908,-32083.048894254705,388446.26833243767,192705.57320146065,-71194.69478207281,64403.74672005009,-42578.19668388537,1535186.1973954593,1514518.5682822552,323989.4839252275,46925.4006723051,837942.650995285,412503.998653938,380486.77763261244,-32290.746326888748,934112.1738481588,200887.30092211097,429523.9182867505,135456.41200154502,4508.754042766958,99830.17059543215,-41396.24016092217,-113619.00881218963,-84630.12358568041,-8064.773781419348,171082.26240465321,-47779.70088485023,-21796.798185626987,-136074.56150007088,-37812.66917258799,34258.75027279512,-88574.56750515067,-148591.22657141698,46758.74868864605,-141741.2274317823,-202991.21967212422,-162991.22473965606,-218574.55102575265,-55241.238387550395,99758.74196799309,-7741.2444076258025,48708.74843798989,-122241.22989301143,-11241.243963759569]\n",
      "Intercept: 320241.2453887391\n"
     ]
    }
   ],
   "source": [
    "# Check linear regerssion coefficients of variables and the intercept\n",
    "print(\"Coefficients: \" + str(model.stages[-1].coefficients))\n",
    "print(\"Intercept: \" + str(model.stages[-1].intercept))"
   ]
  },
  {
   "cell_type": "code",
   "execution_count": 21,
   "id": "f8116685",
   "metadata": {},
   "outputs": [
    {
     "name": "stdout",
     "output_type": "stream",
     "text": [
      "RMSE: 626954.920842\n",
      "r2: 0.368122\n",
      "Mean Absolute Error: 325512.921458\n"
     ]
    }
   ],
   "source": [
    "# get linear regression training summary\n",
    "Summary = model.stages[-1].summary\n",
    "print(\"RMSE: %f\" % Summary.rootMeanSquaredError)\n",
    "print(\"r2: %f\" % Summary.r2)\n",
    "print(\"Mean Absolute Error: %f\" % Summary.meanAbsoluteError)\n"
   ]
  },
  {
   "cell_type": "code",
   "execution_count": 22,
   "id": "2dd93b8b",
   "metadata": {},
   "outputs": [],
   "source": [
    "# save the model's predictions of the testing dataset\n",
    "prediction = model.transform(testing)"
   ]
  },
  {
   "cell_type": "code",
   "execution_count": 23,
   "id": "5d180852",
   "metadata": {},
   "outputs": [
    {
     "name": "stderr",
     "output_type": "stream",
     "text": [
      "\r",
      "[Stage 20:>                                                         (0 + 1) / 1]\r"
     ]
    },
    {
     "name": "stdout",
     "output_type": "stream",
     "text": [
      "RMSE: 607212.762940\n",
      "r2: 0.358802\n",
      "Mean Absolute Error: 316830.047112\n"
     ]
    },
    {
     "name": "stderr",
     "output_type": "stream",
     "text": [
      "\r",
      "                                                                                \r"
     ]
    }
   ],
   "source": [
    "# get linear regression testing summary\n",
    "t_Summary = lr_model.evaluate(test_df)\n",
    "print(\"RMSE: %f\" % testSummary.rootMeanSquaredError)\n",
    "print(\"r2: %f\" % testSummary.r2)\n",
    "print(\"Mean Absolute Error: %f\" % testSummary.meanAbsoluteError)"
   ]
  },
  {
   "cell_type": "code",
   "execution_count": 25,
   "id": "33a5d74c",
   "metadata": {},
   "outputs": [
    {
     "name": "stderr",
     "output_type": "stream",
     "text": [
      "                                                                                \r"
     ]
    }
   ],
   "source": [
    "model.save(\"Fitted-ML-Pipeline\")"
   ]
  },
  {
   "cell_type": "code",
   "execution_count": 26,
   "id": "6d33c64b",
   "metadata": {},
   "outputs": [],
   "source": [
    "spark.stop()"
   ]
  }
 ],
 "metadata": {
  "kernelspec": {
   "display_name": "Python [conda env:bdm]",
   "language": "python",
   "name": "conda-env-bdm-py"
  },
  "language_info": {
   "codemirror_mode": {
    "name": "ipython",
    "version": 3
   },
   "file_extension": ".py",
   "mimetype": "text/x-python",
   "name": "python",
   "nbconvert_exporter": "python",
   "pygments_lexer": "ipython3",
   "version": "3.9.12"
  }
 },
 "nbformat": 4,
 "nbformat_minor": 5
}
